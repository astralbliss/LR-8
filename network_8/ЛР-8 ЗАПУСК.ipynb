{
 "cells": [
  {
   "cell_type": "code",
   "execution_count": null,
   "id": "a84ba52e-38bb-4eb5-b46e-79f0990ee082",
   "metadata": {},
   "outputs": [
    {
     "name": "stdin",
     "output_type": "stream",
     "text": [
      "Выберите тип сервера (tcp/udp/selector/secure_tcp):  secure_tcp\n"
     ]
    },
    {
     "name": "stdout",
     "output_type": "stream",
     "text": [
      "Защищённый сервер слушает на localhost:12345\n"
     ]
    }
   ],
   "source": [
    "from server import tcp_server, upd_server, selector_server, secure_tcp_server\n",
    "\n",
    "def main():\n",
    "    choice = input(\"Выберите тип сервера (tcp/udp/selector/secure_tcp): \").strip()\n",
    "\n",
    "    if choice == \"tcp\":\n",
    "        tcp_server.start_tcp_server()\n",
    "    elif choice == \"udp\":\n",
    "        udp_server.start_udp_server()\n",
    "    elif choice == \"selector\":\n",
    "        selector_server.start_selector_server()\n",
    "    elif choice == \"secure_tcp\":\n",
    "        secure_tcp_server.start_secure_tcp_server()\n",
    "    else:\n",
    "        print(\"Неверный выбор\")\n",
    "\n",
    "if __name__ == \"__main__\":\n",
    "    main()"
   ]
  },
  {
   "cell_type": "code",
   "execution_count": null,
   "id": "7f556018-1b8a-471d-a94e-d192ed97d5ae",
   "metadata": {},
   "outputs": [],
   "source": []
  }
 ],
 "metadata": {
  "kernelspec": {
   "display_name": "Python 3 (ipykernel)",
   "language": "python",
   "name": "python3"
  },
  "language_info": {
   "codemirror_mode": {
    "name": "ipython",
    "version": 3
   },
   "file_extension": ".py",
   "mimetype": "text/x-python",
   "name": "python",
   "nbconvert_exporter": "python",
   "pygments_lexer": "ipython3",
   "version": "3.11.7"
  }
 },
 "nbformat": 4,
 "nbformat_minor": 5
}
